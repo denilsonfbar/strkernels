{
 "cells": [
  {
   "cell_type": "code",
   "execution_count": 1,
   "metadata": {},
   "outputs": [
    {
     "name": "stdout",
     "output_type": "stream",
     "text": [
      "Compiling str_kernel.c...\n",
      "Compiling locality_improved_sk.c...\n",
      "Compiling str_kernel_matrix.c...\n",
      "Compiling sqrt_diag_normalizer.c...\n",
      "Compiling subsequence_sk.c...\n",
      "Compiling fixed_degree_sk.c...\n",
      "Compiling spectrum_sk.c...\n",
      "Compiling normalizer.c...\n",
      "Compiling weighted_degree_sk.c...\n",
      "Linking object files...\n",
      "Compilation completed successfully!\n"
     ]
    }
   ],
   "source": [
    "! python ../strkernels/compile_core.py"
   ]
  },
  {
   "cell_type": "code",
   "execution_count": 2,
   "metadata": {},
   "outputs": [],
   "source": [
    "import numpy as np\n",
    "from sys import path\n",
    "path.append('..')\n",
    "\n",
    "from strkernels import SpectrumStringKernel"
   ]
  },
  {
   "cell_type": "markdown",
   "metadata": {},
   "source": [
    "order == 1"
   ]
  },
  {
   "cell_type": "code",
   "execution_count": 3,
   "metadata": {},
   "outputs": [
    {
     "name": "stdout",
     "output_type": "stream",
     "text": [
      "[[4. 4. 4. 4.]\n",
      " [4. 6. 4. 4.]\n",
      " [4. 4. 4. 4.]\n",
      " [4. 4. 4. 4.]]\n"
     ]
    }
   ],
   "source": [
    "# No normalization\n",
    "spectrum_kernel = SpectrumStringKernel(normalizer=None, \n",
    "                                       order=1, \n",
    "                                       alphabet=0)\n",
    "\n",
    "strings = np.array([\"ATCG\", \"ATGG\", \"TACG\", \"GCTA\"])\n",
    "kernel_matrix = spectrum_kernel(strings, strings)\n",
    "print(kernel_matrix)"
   ]
  },
  {
   "cell_type": "code",
   "execution_count": 4,
   "metadata": {},
   "outputs": [
    {
     "name": "stdout",
     "output_type": "stream",
     "text": [
      "\n",
      " [[4. 4. 4.]\n",
      " [4. 8. 0.]]\n"
     ]
    }
   ],
   "source": [
    "strings1 = np.array([\"ATCG\", \"ATGG\"])\n",
    "strings2 = np.array([\"ATCG\", \"GGGG\", \"CCCC\"])\n",
    "kernel_matrix = spectrum_kernel(strings1, strings2)\n",
    "print('\\n', kernel_matrix)"
   ]
  },
  {
   "cell_type": "code",
   "execution_count": 5,
   "metadata": {},
   "outputs": [
    {
     "name": "stdout",
     "output_type": "stream",
     "text": [
      "[[1.         0.81649658 1.         1.        ]\n",
      " [0.81649658 1.         0.81649658 0.81649658]\n",
      " [1.         0.81649658 1.         1.        ]\n",
      " [1.         0.81649658 1.         1.        ]]\n"
     ]
    }
   ],
   "source": [
    "# Wiht standard normalization (srqt diagonal)\n",
    "spectrum_kernel = SpectrumStringKernel(order=1, \n",
    "                                       alphabet=0)\n",
    "\n",
    "strings = np.array([\"ATCG\", \"ATGG\", \"TACG\", \"GCTA\"])\n",
    "kernel_matrix = spectrum_kernel(strings, strings)\n",
    "print(kernel_matrix)"
   ]
  },
  {
   "cell_type": "code",
   "execution_count": 6,
   "metadata": {},
   "outputs": [
    {
     "name": "stdout",
     "output_type": "stream",
     "text": [
      "\n",
      " [[1.         0.5        0.5       ]\n",
      " [0.81649658 0.81649658 0.        ]]\n"
     ]
    }
   ],
   "source": [
    "strings1 = np.array([\"ATCG\", \"ATGG\"])\n",
    "strings2 = np.array([\"ATCG\", \"GGGG\", \"CCCC\"])\n",
    "kernel_matrix = spectrum_kernel(strings1, strings2)\n",
    "print('\\n', kernel_matrix)"
   ]
  },
  {
   "cell_type": "markdown",
   "metadata": {},
   "source": [
    "order == 3"
   ]
  },
  {
   "cell_type": "code",
   "execution_count": 7,
   "metadata": {},
   "outputs": [
    {
     "name": "stdout",
     "output_type": "stream",
     "text": [
      "[[ 9.  5.  5.  4.]\n",
      " [ 5. 11.  4.  4.]\n",
      " [ 5.  4.  9.  5.]\n",
      " [ 4.  4.  5.  9.]]\n"
     ]
    }
   ],
   "source": [
    "# No normalization\n",
    "spectrum_kernel = SpectrumStringKernel(normalizer=None, \n",
    "                                       order=3, \n",
    "                                       alphabet=0)\n",
    "\n",
    "strings = np.array([\"ATCG\", \"ATGG\", \"TACG\", \"GCTA\"])\n",
    "kernel_matrix = spectrum_kernel(strings, strings)\n",
    "print(kernel_matrix)"
   ]
  },
  {
   "cell_type": "code",
   "execution_count": 8,
   "metadata": {},
   "outputs": [
    {
     "name": "stdout",
     "output_type": "stream",
     "text": [
      "\n",
      " [[ 9.  4.  4.]\n",
      " [ 5. 11.  0.]]\n"
     ]
    }
   ],
   "source": [
    "strings1 = np.array([\"ATCG\", \"ATGG\"])\n",
    "strings2 = np.array([\"ATCG\", \"GGGG\", \"CCCC\"])\n",
    "kernel_matrix = spectrum_kernel(strings1, strings2)\n",
    "print('\\n', kernel_matrix)"
   ]
  },
  {
   "cell_type": "code",
   "execution_count": 9,
   "metadata": {},
   "outputs": [
    {
     "name": "stdout",
     "output_type": "stream",
     "text": [
      "[[1.         0.50251891 0.55555556 0.44444444]\n",
      " [0.50251891 1.         0.40201513 0.40201513]\n",
      " [0.55555556 0.40201513 1.         0.55555556]\n",
      " [0.44444444 0.40201513 0.55555556 1.        ]]\n"
     ]
    }
   ],
   "source": [
    "# Wiht standard normalization (srqt diagonal)\n",
    "spectrum_kernel = SpectrumStringKernel(order=3, \n",
    "                                       alphabet=0)\n",
    "\n",
    "strings = np.array([\"ATCG\", \"ATGG\", \"TACG\", \"GCTA\"])\n",
    "kernel_matrix = spectrum_kernel(strings, strings)\n",
    "print(kernel_matrix)"
   ]
  },
  {
   "cell_type": "code",
   "execution_count": 10,
   "metadata": {},
   "outputs": [
    {
     "name": "stdout",
     "output_type": "stream",
     "text": [
      "\n",
      " [[1.         0.24759378 0.24759378]\n",
      " [0.50251891 0.61588176 0.        ]]\n"
     ]
    }
   ],
   "source": [
    "strings1 = np.array([\"ATCG\", \"ATGG\"])\n",
    "strings2 = np.array([\"ATCG\", \"GGGG\", \"CCCC\"])\n",
    "kernel_matrix = spectrum_kernel(strings1, strings2)\n",
    "print('\\n', kernel_matrix)"
   ]
  }
 ],
 "metadata": {
  "kernelspec": {
   "display_name": "python-3.12-env",
   "language": "python",
   "name": "python3"
  },
  "language_info": {
   "codemirror_mode": {
    "name": "ipython",
    "version": 3
   },
   "file_extension": ".py",
   "mimetype": "text/x-python",
   "name": "python",
   "nbconvert_exporter": "python",
   "pygments_lexer": "ipython3",
   "version": "3.12.2"
  }
 },
 "nbformat": 4,
 "nbformat_minor": 2
}
