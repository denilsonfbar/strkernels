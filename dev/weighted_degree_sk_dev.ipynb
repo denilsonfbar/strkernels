{
 "cells": [
  {
   "cell_type": "code",
   "execution_count": 1,
   "metadata": {},
   "outputs": [],
   "source": [
    "def compute_weighted_degree_sk(str_a, str_b, degree):\n",
    "\n",
    "    shortest_str_len = min(len(str_a), len(str_b))\n",
    "\n",
    "    kernel_value = 0\n",
    "    for k in range(1, degree+1):\n",
    "        w = degree - k + 1\n",
    "        degree_kernel_value = 0\n",
    "    \n",
    "        for i in range(shortest_str_len-k+1):\n",
    "            match = True\n",
    "            for j in range(i, i+k):\n",
    "                if str_a[j] != str_b[j]:\n",
    "                    match = False\n",
    "                    break\n",
    "            if match:\n",
    "                degree_kernel_value += 1\n",
    "        weighted_degree_kernel_value = degree_kernel_value * w\n",
    "\n",
    "        kernel_value += weighted_degree_kernel_value\n",
    "        \n",
    "    return kernel_value"
   ]
  },
  {
   "cell_type": "code",
   "execution_count": 2,
   "metadata": {},
   "outputs": [],
   "source": [
    "str_a = 'ACTACTTCGT'\n",
    "str_b = 'GATACGATGC'"
   ]
  },
  {
   "cell_type": "code",
   "execution_count": 3,
   "metadata": {},
   "outputs": [
    {
     "data": {
      "text/plain": [
       "4"
      ]
     },
     "execution_count": 3,
     "metadata": {},
     "output_type": "execute_result"
    }
   ],
   "source": [
    "degree = 1\n",
    "compute_weighted_degree_sk(str_a, str_b, degree)"
   ]
  },
  {
   "cell_type": "code",
   "execution_count": 4,
   "metadata": {},
   "outputs": [
    {
     "data": {
      "text/plain": [
       "10"
      ]
     },
     "execution_count": 4,
     "metadata": {},
     "output_type": "execute_result"
    }
   ],
   "source": [
    "degree = 2\n",
    "compute_weighted_degree_sk(str_a, str_b, degree)"
   ]
  },
  {
   "cell_type": "code",
   "execution_count": 5,
   "metadata": {},
   "outputs": [
    {
     "data": {
      "text/plain": [
       "17"
      ]
     },
     "execution_count": 5,
     "metadata": {},
     "output_type": "execute_result"
    }
   ],
   "source": [
    "degree = 3\n",
    "compute_weighted_degree_sk(str_a, str_b, degree)"
   ]
  },
  {
   "cell_type": "code",
   "execution_count": null,
   "metadata": {},
   "outputs": [],
   "source": []
  },
  {
   "cell_type": "code",
   "execution_count": 6,
   "metadata": {},
   "outputs": [],
   "source": [
    "from sys import path as sys_path\n",
    "sys_path.append('..')"
   ]
  },
  {
   "cell_type": "code",
   "execution_count": 7,
   "metadata": {},
   "outputs": [
    {
     "data": {
      "text/plain": [
       "array([[4.]])"
      ]
     },
     "execution_count": 7,
     "metadata": {},
     "output_type": "execute_result"
    }
   ],
   "source": [
    "from strkernels import WeightedDegreeStringKernel\n",
    "wd_kernel = WeightedDegreeStringKernel(normalizer=None, degree=1)\n",
    "kernel_matrix = wd_kernel([str_a], [str_b])\n",
    "kernel_matrix"
   ]
  },
  {
   "cell_type": "code",
   "execution_count": 8,
   "metadata": {},
   "outputs": [
    {
     "data": {
      "text/plain": [
       "array([[10.]])"
      ]
     },
     "execution_count": 8,
     "metadata": {},
     "output_type": "execute_result"
    }
   ],
   "source": [
    "wd_kernel = WeightedDegreeStringKernel(normalizer=None, degree=2)\n",
    "kernel_matrix = wd_kernel([str_a], [str_b])\n",
    "kernel_matrix"
   ]
  },
  {
   "cell_type": "code",
   "execution_count": 9,
   "metadata": {},
   "outputs": [
    {
     "data": {
      "text/plain": [
       "array([[17.]])"
      ]
     },
     "execution_count": 9,
     "metadata": {},
     "output_type": "execute_result"
    }
   ],
   "source": [
    "wd_kernel = WeightedDegreeStringKernel(normalizer=None, degree=3)\n",
    "kernel_matrix = wd_kernel([str_a], [str_b])\n",
    "kernel_matrix"
   ]
  }
 ],
 "metadata": {
  "kernelspec": {
   "display_name": "base",
   "language": "python",
   "name": "python3"
  },
  "language_info": {
   "codemirror_mode": {
    "name": "ipython",
    "version": 3
   },
   "file_extension": ".py",
   "mimetype": "text/x-python",
   "name": "python",
   "nbconvert_exporter": "python",
   "pygments_lexer": "ipython3",
   "version": "3.9.18"
  }
 },
 "nbformat": 4,
 "nbformat_minor": 2
}
