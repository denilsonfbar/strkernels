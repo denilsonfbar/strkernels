{
 "cells": [
  {
   "cell_type": "markdown",
   "metadata": {},
   "source": [
    "### Sqrt diagonal kernel normalizer\n",
    "\n",
    "Sqrt diagonal kernel normalizer divides by the square root of the product of the diagonal elements.\n",
    "\n",
    "This effectively normalizes the vectors in feature space to norm 1.\n",
    "$$\n",
    "k'({\\bf x},{\\bf x'}) = \\frac{k({\\bf x},{\\bf x'})}{\\sqrt{k({\\bf x},{\\bf x})k({\\bf x'},{\\bf x'})}}\n",
    "$$"
   ]
  }
 ],
 "metadata": {
  "language_info": {
   "name": "python"
  }
 },
 "nbformat": 4,
 "nbformat_minor": 2
}
