{
 "cells": [
  {
   "cell_type": "markdown",
   "metadata": {},
   "source": [
    "### Fixed Degree String Kernel (FDSK) \n",
    "\n",
    "The FixedDegree String kernel takes as input two strings of same size and counts the number of matches of length d.\n",
    " $$\n",
    "    k({\\bf x}, {\\bf x'}) = \\sum_{i=0}^{l-d} I({\\bf x}_{i,i+1,\\dots,i+d-1} = {\\bf x'}_{i,i+1,\\dots,i+d-1})\n",
    " $$\n",
    "\n",
    "#### Reference\n",
    "\n",
    "Sonnenburg *et al*. The Shogun machine learning toolbox. *Journal of Machine Learning Research*, 11, 1799–1802 (2010)."
   ]
  }
 ],
 "metadata": {
  "language_info": {
   "name": "python"
  }
 },
 "nbformat": 4,
 "nbformat_minor": 2
}
