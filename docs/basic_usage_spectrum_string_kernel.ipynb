{
 "cells": [
  {
   "cell_type": "markdown",
   "metadata": {},
   "source": [
    "## Spectrum String Kernel basic usage"
   ]
  },
  {
   "cell_type": "markdown",
   "metadata": {},
   "source": [
    "Install with pip:"
   ]
  },
  {
   "cell_type": "code",
   "execution_count": 1,
   "metadata": {},
   "outputs": [
    {
     "name": "stdout",
     "output_type": "stream",
     "text": [
      "Compiling str_kernel.c...\n",
      "Compiling locality_improved_sk.c...\n",
      "Compiling str_kernel_matrix.c...\n",
      "Compiling sqrt_diag_normalizer.c...\n",
      "Compiling subsequence_sk.c...\n",
      "Compiling fixed_degree_sk.c...\n",
      "Compiling spectrum_sk.c...\n",
      "Compiling normalizer.c...\n",
      "Compiling weighted_degree_sk.c...\n",
      "Linking object files...\n",
      "Compilation completed successfully!\n"
     ]
    }
   ],
   "source": [
    "# ! pip install strkernels\n",
    "\n",
    "! python ../strkernels/compile_core.py\n",
    "\n",
    "from sys import path\n",
    "path.append('..')"
   ]
  },
  {
   "cell_type": "markdown",
   "metadata": {},
   "source": [
    "Import and create a kernel:"
   ]
  },
  {
   "cell_type": "code",
   "execution_count": 2,
   "metadata": {},
   "outputs": [],
   "source": [
    "from strkernels import SpectrumStringKernel\n",
    "spectrum_kernel = SpectrumStringKernel(order=3)"
   ]
  },
  {
   "cell_type": "markdown",
   "metadata": {},
   "source": [
    "Example data:"
   ]
  },
  {
   "cell_type": "code",
   "execution_count": 3,
   "metadata": {},
   "outputs": [],
   "source": [
    "import numpy as np\n",
    "strings = np.array([\"ATCG\", \"ATGG\", \"TACG\", \"GCTA\"])\n",
    "y = np.array([-1, -1, 1, 1])"
   ]
  },
  {
   "cell_type": "markdown",
   "metadata": {},
   "source": [
    "Compute the kernel matrix:"
   ]
  },
  {
   "cell_type": "code",
   "execution_count": 4,
   "metadata": {},
   "outputs": [
    {
     "name": "stdout",
     "output_type": "stream",
     "text": [
      "[[1.         0.50251891 0.55555556 0.44444444]\n",
      " [0.50251891 1.         0.40201513 0.40201513]\n",
      " [0.55555556 0.40201513 1.         0.55555556]\n",
      " [0.44444444 0.40201513 0.55555556 1.        ]]\n"
     ]
    }
   ],
   "source": [
    "kernel_matrix = spectrum_kernel(strings, strings)\n",
    "\n",
    "print(kernel_matrix)"
   ]
  },
  {
   "cell_type": "markdown",
   "metadata": {},
   "source": [
    "Or use the kernel object with Scikit-learn:"
   ]
  },
  {
   "cell_type": "code",
   "execution_count": 5,
   "metadata": {},
   "outputs": [
    {
     "name": "stdout",
     "output_type": "stream",
     "text": [
      "[-1 -1  1  1]\n"
     ]
    }
   ],
   "source": [
    "from sklearn.svm import SVC\n",
    "clf = SVC(kernel=spectrum_kernel)\n",
    "\n",
    "# train the classifier\n",
    "clf.fit(strings, y)\n",
    "\n",
    "# make predictions using the classifier\n",
    "predictions = clf.predict(strings)\n",
    "\n",
    "print(predictions)"
   ]
  },
  {
   "cell_type": "markdown",
   "metadata": {},
   "source": [
    "Example with two sets of strings:"
   ]
  },
  {
   "cell_type": "code",
   "execution_count": 6,
   "metadata": {},
   "outputs": [
    {
     "name": "stdout",
     "output_type": "stream",
     "text": [
      "[[1.         0.24759378 0.24759378]\n",
      " [0.50251891 0.61588176 0.        ]]\n"
     ]
    }
   ],
   "source": [
    "strings1 = np.array([\"ATCG\", \"ATGG\"])\n",
    "strings2 = np.array([\"ATCG\", \"GGGG\", \"CCCC\"])\n",
    "\n",
    "kernel_matrix = spectrum_kernel(strings1, strings2)\n",
    "\n",
    "print(kernel_matrix)"
   ]
  }
 ],
 "metadata": {
  "kernelspec": {
   "display_name": "python-3.12-env",
   "language": "python",
   "name": "python3"
  },
  "language_info": {
   "codemirror_mode": {
    "name": "ipython",
    "version": 3
   },
   "file_extension": ".py",
   "mimetype": "text/x-python",
   "name": "python",
   "nbconvert_exporter": "python",
   "pygments_lexer": "ipython3",
   "version": "3.12.2"
  }
 },
 "nbformat": 4,
 "nbformat_minor": 2
}
