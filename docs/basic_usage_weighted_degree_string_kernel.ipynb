{
 "cells": [
  {
   "cell_type": "markdown",
   "metadata": {},
   "source": [
    "## Weighted Degree String Kernel basic usage"
   ]
  },
  {
   "cell_type": "markdown",
   "metadata": {},
   "source": [
    "Install with pip:"
   ]
  },
  {
   "cell_type": "code",
   "execution_count": null,
   "metadata": {},
   "outputs": [],
   "source": [
    "! pip install strkernels"
   ]
  },
  {
   "cell_type": "markdown",
   "metadata": {},
   "source": [
    "Import and create a kernel:"
   ]
  },
  {
   "cell_type": "code",
   "execution_count": 2,
   "metadata": {},
   "outputs": [],
   "source": [
    "from strkernels import WeightedDegreeStringKernel\n",
    "wd_kernel = WeightedDegreeStringKernel(degree=3)"
   ]
  },
  {
   "cell_type": "markdown",
   "metadata": {},
   "source": [
    "Example data:"
   ]
  },
  {
   "cell_type": "code",
   "execution_count": 3,
   "metadata": {},
   "outputs": [],
   "source": [
    "import numpy as np\n",
    "strings = np.array([\"ATCG\", \"ATGG\", \"TACG\", \"GCTA\"])\n",
    "y = np.array([-1, -1, 1, 1])"
   ]
  },
  {
   "cell_type": "markdown",
   "metadata": {},
   "source": [
    "Compute the kernel matrix:"
   ]
  },
  {
   "cell_type": "code",
   "execution_count": 4,
   "metadata": {},
   "outputs": [
    {
     "name": "stdout",
     "output_type": "stream",
     "text": [
      "[[1.   0.55 0.4  0.  ]\n",
      " [0.55 1.   0.15 0.  ]\n",
      " [0.4  0.15 1.   0.  ]\n",
      " [0.   0.   0.   1.  ]]\n"
     ]
    }
   ],
   "source": [
    "kernel_matrix = wd_kernel(strings, strings)\n",
    "\n",
    "print(kernel_matrix)"
   ]
  },
  {
   "cell_type": "markdown",
   "metadata": {},
   "source": [
    "Or use the kernel object with Scikit-learn:"
   ]
  },
  {
   "cell_type": "code",
   "execution_count": null,
   "metadata": {},
   "outputs": [
    {
     "name": "stdout",
     "output_type": "stream",
     "text": [
      "[-1 -1  1  1]\n"
     ]
    }
   ],
   "source": [
    "from sklearn.svm import SVC\n",
    "clf = SVC(kernel=wd_kernel)\n",
    "\n",
    "# train the classifier\n",
    "clf.fit(strings, y)\n",
    "\n",
    "# make predictions using the classifier\n",
    "predictions = clf.predict(strings)\n",
    "\n",
    "print(predictions)"
   ]
  },
  {
   "cell_type": "markdown",
   "metadata": {},
   "source": [
    "Example with two sets of strings:"
   ]
  },
  {
   "cell_type": "code",
   "execution_count": 8,
   "metadata": {},
   "outputs": [
    {
     "name": "stdout",
     "output_type": "stream",
     "text": [
      "[[1.   0.15 0.15]\n",
      " [0.55 0.4  0.  ]]\n"
     ]
    }
   ],
   "source": [
    "strings1 = np.array([\"ATCG\", \"ATGG\"])\n",
    "strings2 = np.array([\"ATCG\", \"GGGG\", \"CCCC\"])\n",
    "\n",
    "kernel_matrix = wd_kernel(strings1, strings2)\n",
    "\n",
    "print(kernel_matrix)"
   ]
  }
 ],
 "metadata": {
  "kernelspec": {
   "display_name": "base",
   "language": "python",
   "name": "python3"
  },
  "language_info": {
   "codemirror_mode": {
    "name": "ipython",
    "version": 3
   },
   "file_extension": ".py",
   "mimetype": "text/x-python",
   "name": "python",
   "nbconvert_exporter": "python",
   "pygments_lexer": "ipython3",
   "version": "3.9.18"
  }
 },
 "nbformat": 4,
 "nbformat_minor": 2
}
